{
 "cells": [
  {
   "cell_type": "code",
   "execution_count": 1,
   "id": "67dcfe09",
   "metadata": {},
   "outputs": [
    {
     "name": "stdout",
     "output_type": "stream",
     "text": [
      "pygame 2.1.2 (SDL 2.0.18, Python 3.9.7)\n",
      "Hello from the pygame community. https://www.pygame.org/contribute.html\n"
     ]
    }
   ],
   "source": [
    "import pygame, sys"
   ]
  },
  {
   "cell_type": "code",
   "execution_count": 2,
   "id": "63aed461",
   "metadata": {},
   "outputs": [
    {
     "data": {
      "text/plain": [
       "(5, 0)"
      ]
     },
     "execution_count": 2,
     "metadata": {},
     "output_type": "execute_result"
    }
   ],
   "source": [
    "pygame.init()"
   ]
  },
  {
   "cell_type": "code",
   "execution_count": 3,
   "id": "89151dcf",
   "metadata": {},
   "outputs": [
    {
     "ename": "SystemExit",
     "evalue": "",
     "output_type": "error",
     "traceback": [
      "An exception has occurred, use %tb to see the full traceback.\n",
      "\u001b[1;31mSystemExit\u001b[0m\n"
     ]
    },
    {
     "name": "stderr",
     "output_type": "stream",
     "text": [
      "C:\\ProgramData\\Anaconda3\\lib\\site-packages\\IPython\\core\\interactiveshell.py:3452: UserWarning: To exit: use 'exit', 'quit', or Ctrl-D.\n",
      "  warn(\"To exit: use 'exit', 'quit', or Ctrl-D.\", stacklevel=1)\n"
     ]
    }
   ],
   "source": [
    "width = 1000\n",
    "height = 1000\n",
    "bg_color = (28,170,156)\n",
    "red = (0,0,0)\n",
    "screen = pygame.display.set_mode((width,height))\n",
    "\n",
    "pygame.display.set_caption( 'Amdavad' )\n",
    "\n",
    "screen.fill(bg_color)\n",
    "line_color = (23, 145, 135)\n",
    "line_width = 15\n",
    "\n",
    "def draw_lines():\n",
    "    pygame.draw.line(screen, line_color, (0, 200), (1000, 200), line_width)\n",
    "    pygame.draw.line(screen, line_color, (0, 400), (1000, 400), line_width)\n",
    "    pygame.draw.line(screen, line_color, (0, 600), (1000, 600), line_width)\n",
    "    pygame.draw.line(screen, line_color, (0, 800), (1000, 800), line_width)\n",
    "    pygame.draw.line(screen, line_color, (0, 1000), (1000, 1000), line_width)\n",
    "    \n",
    "draw_lines()\n",
    "    \n",
    "    \n",
    "\n",
    "while True:\n",
    "    for event in pygame.event.get():\n",
    "        if event.type == pygame.QUIT:\n",
    "            sys.exit()\n",
    "    pygame.display.update()"
   ]
  },
  {
   "cell_type": "code",
   "execution_count": null,
   "id": "54083755",
   "metadata": {},
   "outputs": [],
   "source": []
  }
 ],
 "metadata": {
  "kernelspec": {
   "display_name": "Python 3 (ipykernel)",
   "language": "python",
   "name": "python3"
  },
  "language_info": {
   "codemirror_mode": {
    "name": "ipython",
    "version": 3
   },
   "file_extension": ".py",
   "mimetype": "text/x-python",
   "name": "python",
   "nbconvert_exporter": "python",
   "pygments_lexer": "ipython3",
   "version": "3.9.7"
  }
 },
 "nbformat": 4,
 "nbformat_minor": 5
}
